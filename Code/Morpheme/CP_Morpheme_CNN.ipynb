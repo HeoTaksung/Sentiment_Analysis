{
 "cells": [
  {
   "cell_type": "code",
   "execution_count": 2,
   "metadata": {},
   "outputs": [],
   "source": [
    "from konlpy.tag import Okt\n",
    "okt = Okt()\n",
    "\n",
    "file = open('./ratings_train.txt', 'r', encoding='utf-8-sig')\n",
    "\n",
    "sentence = []\n",
    "label = []\n",
    "\n",
    "for idx, line in enumerate(file):\n",
    "    if idx == 0:     # 첫 번째 줄은 열의 label이 들어있는 Line\n",
    "        continue\n",
    "    line = line.split('\\t')\n",
    "    sentence.append(okt.morphs(line[1].strip()))\n",
    "    label.append(line[2].strip())"
   ]
  },
  {
   "cell_type": "code",
   "execution_count": 3,
   "metadata": {},
   "outputs": [
    {
     "name": "stdout",
     "output_type": "stream",
     "text": [
      "['아', '더빙', '..', '진짜', '짜증나네요', '목소리'] 0\n"
     ]
    }
   ],
   "source": [
    "print(sentence[0], label[0])\n",
    "\n",
    "file.close()"
   ]
  },
  {
   "cell_type": "code",
   "execution_count": 5,
   "metadata": {},
   "outputs": [],
   "source": [
    "file = open('./ratings_test.txt', 'r', encoding='utf-8-sig')\n",
    "\n",
    "test_sentence = []\n",
    "test_label = []\n",
    "\n",
    "for idx, line in enumerate(file):\n",
    "    if idx == 0:     # 첫 번째 줄은 열의 label이 들어있는 Line\n",
    "        continue\n",
    "    line = line.split('\\t')\n",
    "    test_sentence.append(okt.morphs(line[1].strip()))\n",
    "    test_label.append(line[2].strip())"
   ]
  },
  {
   "cell_type": "code",
   "execution_count": 6,
   "metadata": {},
   "outputs": [
    {
     "name": "stdout",
     "output_type": "stream",
     "text": [
      "['굳', 'ㅋ'] 1\n"
     ]
    }
   ],
   "source": [
    "print(test_sentence[0], test_label[0])\n",
    "\n",
    "file.close()"
   ]
  },
  {
   "cell_type": "code",
   "execution_count": 7,
   "metadata": {},
   "outputs": [],
   "source": [
    "all_sentence = sentence + test_sentence         # train에 비해 test 문장이 더 길면 모델 오류가 나므로 통합적으로 관리\n",
    "\n",
    "max_len = max([len(i) for i in all_sentence])"
   ]
  },
  {
   "cell_type": "code",
   "execution_count": 8,
   "metadata": {},
   "outputs": [],
   "source": [
    "vocab = set()\n",
    "\n",
    "for line in all_sentence:\n",
    "    for word in line:\n",
    "        vocab.add(word)\n",
    "        \n",
    "vocab_size = len(vocab) + 1\n",
    "vocab = sorted(list(vocab))"
   ]
  },
  {
   "cell_type": "code",
   "execution_count": 10,
   "metadata": {},
   "outputs": [],
   "source": [
    "vocab_index = {}\n",
    "\n",
    "for i in range(len(vocab)):\n",
    "    vocab_index[vocab[i]] = len(vocab_index)+1"
   ]
  },
  {
   "cell_type": "code",
   "execution_count": 11,
   "metadata": {},
   "outputs": [],
   "source": [
    "X_train = []\n",
    "for line in sentence:\n",
    "    etc = []\n",
    "    for word in line:\n",
    "        etc.append(vocab_index[word])\n",
    "    X_train.append(etc)"
   ]
  },
  {
   "cell_type": "code",
   "execution_count": 13,
   "metadata": {},
   "outputs": [],
   "source": [
    "Y_train = []\n",
    "for line in test_sentence:\n",
    "    etc = []\n",
    "    for word in line:\n",
    "        etc.append(vocab_index[word])\n",
    "    Y_train.append(etc)"
   ]
  },
  {
   "cell_type": "code",
   "execution_count": 15,
   "metadata": {},
   "outputs": [],
   "source": [
    "from keras.preprocessing.sequence import pad_sequences\n",
    "from sklearn.model_selection import train_test_split\n",
    "\n",
    "X_train = pad_sequences(X_train, padding = 'post', maxlen = max_len)\n",
    "Y_train = pad_sequences(Y_train, padding = 'post', maxlen = max_len)"
   ]
  },
  {
   "cell_type": "code",
   "execution_count": 17,
   "metadata": {},
   "outputs": [],
   "source": [
    "X_train, X_cv, train_label, cv_label = train_test_split(X_train, label, test_size = 0.1)"
   ]
  },
  {
   "cell_type": "code",
   "execution_count": 25,
   "metadata": {},
   "outputs": [],
   "source": [
    "from keras.utils.np_utils import to_categorical\n",
    "\n",
    "train_label = to_categorical(train_label)\n",
    "cv_label = to_categorical(cv_label)\n",
    "test_label = to_categorical(test_label)"
   ]
  },
  {
   "cell_type": "code",
   "execution_count": 28,
   "metadata": {},
   "outputs": [
    {
     "name": "stdout",
     "output_type": "stream",
     "text": [
      "_________________________________________________________________\n",
      "Layer (type)                 Output Shape              Param #   \n",
      "=================================================================\n",
      "input_7 (InputLayer)         (None, 95)                0         \n",
      "_________________________________________________________________\n",
      "embedding_7 (Embedding)      (None, 95, 100)           12289600  \n",
      "_________________________________________________________________\n",
      "conv1d_7 (Conv1D)            (None, 93, 32)            9632      \n",
      "_________________________________________________________________\n",
      "global_max_pooling1d_7 (Glob (None, 32)                0         \n",
      "_________________________________________________________________\n",
      "dense_7 (Dense)              (None, 2)                 66        \n",
      "=================================================================\n",
      "Total params: 12,299,298\n",
      "Trainable params: 12,299,298\n",
      "Non-trainable params: 0\n",
      "_________________________________________________________________\n",
      "Train on 135000 samples, validate on 15000 samples\n",
      "Epoch 1/30\n",
      "135000/135000 [==============================] - 199s 1ms/step - loss: 0.4036 - acc: 0.8196 - val_loss: 0.3355 - val_acc: 0.8539\n",
      "Epoch 2/30\n",
      "135000/135000 [==============================] - 191s 1ms/step - loss: 0.2421 - acc: 0.9056 - val_loss: 0.3345 - val_acc: 0.8573\n",
      "Epoch 3/30\n",
      "135000/135000 [==============================] - 186s 1ms/step - loss: 0.1465 - acc: 0.9484 - val_loss: 0.3755 - val_acc: 0.8534\n",
      "Epoch 4/30\n",
      "135000/135000 [==============================] - 187s 1ms/step - loss: 0.0857 - acc: 0.9722 - val_loss: 0.4253 - val_acc: 0.8517\n",
      "Restoring model weights from the end of the best epoch\n",
      "Epoch 00004: early stopping\n"
     ]
    },
    {
     "data": {
      "text/plain": [
       "<keras.callbacks.History at 0x2903733dcc0>"
      ]
     },
     "execution_count": 28,
     "metadata": {},
     "output_type": "execute_result"
    }
   ],
   "source": [
    "from keras.layers import Input, Dense, Conv1D, Embedding, GlobalMaxPooling1D\n",
    "from keras.models import Model\n",
    "from keras.callbacks import EarlyStopping\n",
    "\n",
    "input_sentence = Input(shape=(max_len,))\n",
    "\n",
    "emd = Embedding(vocab_size, 100)(input_sentence)\n",
    "\n",
    "conv1d = Conv1D(32, 3, activation='relu', strides=1)(emd)\n",
    "\n",
    "GMP = GlobalMaxPooling1D()(conv1d)\n",
    "\n",
    "output = Dense(2, activation='softmax')(GMP)\n",
    "\n",
    "model = Model(inputs=[input_sentence], outputs=output)\n",
    "\n",
    "model.compile(loss='binary_crossentropy', optimizer='adam', metrics=['accuracy'])\n",
    "\n",
    "es = EarlyStopping(monitor='val_loss',mode='min', verbose=1, patience=2, restore_best_weights=True)\n",
    "\n",
    "model.summary()\n",
    "\n",
    "model.fit(X_train, train_label, batch_size=256, epochs=30, validation_data=(X_cv, cv_label), callbacks=[es])"
   ]
  },
  {
   "cell_type": "code",
   "execution_count": 29,
   "metadata": {},
   "outputs": [
    {
     "name": "stdout",
     "output_type": "stream",
     "text": [
      "50000/50000 [==============================] - 6s 120us/step\n",
      "Accuracy: 0.85504\n",
      "Loss: 0.3446316457033157\n"
     ]
    }
   ],
   "source": [
    "evaluation = model.evaluate(Y_train, test_label)\n",
    "\n",
    "print('Accuracy: '+str(evaluation[1]))\n",
    "print('Loss: '+str(evaluation[0]))"
   ]
  },
  {
   "cell_type": "code",
   "execution_count": 31,
   "metadata": {},
   "outputs": [
    {
     "name": "stdout",
     "output_type": "stream",
     "text": [
      "              precision    recall  f1-score   support\n",
      "\n",
      "           0       0.84      0.87      0.86     24827\n",
      "           1       0.87      0.84      0.85     25173\n",
      "\n",
      "   micro avg       0.86      0.86      0.86     50000\n",
      "   macro avg       0.86      0.86      0.86     50000\n",
      "weighted avg       0.86      0.86      0.86     50000\n",
      "\n"
     ]
    }
   ],
   "source": [
    "y_pred = model.predict([Y_train])\n",
    "Y_pred = y_pred.round()\n",
    "\n",
    "from sklearn.metrics import confusion_matrix, classification_report\n",
    "import numpy as np\n",
    "\n",
    "y_pred = np.argmax(y_pred, axis=1)\n",
    "y_test = np.argmax(test_label, axis=1)\n",
    "\n",
    "t = confusion_matrix(y_test, y_pred)\n",
    "\n",
    "print(classification_report(\n",
    "    y_test, y_pred,\n",
    "    target_names=[\"0\",\"1\"]\n",
    "))"
   ]
  },
  {
   "cell_type": "code",
   "execution_count": null,
   "metadata": {},
   "outputs": [],
   "source": []
  }
 ],
 "metadata": {
  "kernelspec": {
   "display_name": "Python 3",
   "language": "python",
   "name": "python3"
  },
  "language_info": {
   "codemirror_mode": {
    "name": "ipython",
    "version": 3
   },
   "file_extension": ".py",
   "mimetype": "text/x-python",
   "name": "python",
   "nbconvert_exporter": "python",
   "pygments_lexer": "ipython3",
   "version": "3.6.8"
  }
 },
 "nbformat": 4,
 "nbformat_minor": 2
}
